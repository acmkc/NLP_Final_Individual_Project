{
 "cells": [
  {
   "cell_type": "markdown",
   "metadata": {},
   "source": [
    "### Project: Amazon pet supplies product reviews sentiment analysis using different models \n",
    "### Python version: 3.10.12\n",
    "\n"
   ]
  },
  {
   "cell_type": "markdown",
   "metadata": {},
   "source": [
    "##### Import packages"
   ]
  },
  {
   "cell_type": "code",
   "execution_count": 2,
   "metadata": {},
   "outputs": [],
   "source": [
    "import pandas as pd  \n",
    "import re\n",
    "import matplotlib as plt\n",
    "import seaborn as sns\n",
    "import json\n",
    "import nltk\n",
    "from nltk.corpus import stopwords\n",
    "from nltk.stem import WordNetLemmatizer\n",
    "from nltk.tokenize import RegexpTokenizer\n",
    "\n"
   ]
  },
  {
   "cell_type": "code",
   "execution_count": 3,
   "metadata": {},
   "outputs": [],
   "source": [
    "\n",
    "# Read the JSON file line by line\n",
    "with open('Pet_Supplies.json', 'r') as file:\n",
    "    data = [json.loads(line) for line in file if line.strip()]\n"
   ]
  },
  {
   "cell_type": "code",
   "execution_count": 4,
   "metadata": {},
   "outputs": [],
   "source": [
    "# Convert the list of dictionaries to a DataFrame\n",
    "df_raw = pd.DataFrame(data)"
   ]
  },
  {
   "cell_type": "code",
   "execution_count": 5,
   "metadata": {},
   "outputs": [],
   "source": [
    "df = df_raw.copy()"
   ]
  },
  {
   "cell_type": "code",
   "execution_count": 6,
   "metadata": {},
   "outputs": [
    {
     "data": {
      "text/html": [
       "<div>\n",
       "<style scoped>\n",
       "    .dataframe tbody tr th:only-of-type {\n",
       "        vertical-align: middle;\n",
       "    }\n",
       "\n",
       "    .dataframe tbody tr th {\n",
       "        vertical-align: top;\n",
       "    }\n",
       "\n",
       "    .dataframe thead th {\n",
       "        text-align: right;\n",
       "    }\n",
       "</style>\n",
       "<table border=\"1\" class=\"dataframe\">\n",
       "  <thead>\n",
       "    <tr style=\"text-align: right;\">\n",
       "      <th></th>\n",
       "      <th>overall</th>\n",
       "      <th>vote</th>\n",
       "      <th>verified</th>\n",
       "      <th>reviewTime</th>\n",
       "      <th>reviewerID</th>\n",
       "      <th>asin</th>\n",
       "      <th>reviewerName</th>\n",
       "      <th>reviewText</th>\n",
       "      <th>summary</th>\n",
       "      <th>unixReviewTime</th>\n",
       "      <th>style</th>\n",
       "      <th>image</th>\n",
       "    </tr>\n",
       "  </thead>\n",
       "  <tbody>\n",
       "    <tr>\n",
       "      <th>0</th>\n",
       "      <td>3.0</td>\n",
       "      <td>5</td>\n",
       "      <td>True</td>\n",
       "      <td>09 27, 2007</td>\n",
       "      <td>A13K4OZKAAHOXS</td>\n",
       "      <td>0972585419</td>\n",
       "      <td>100indecisions</td>\n",
       "      <td>Either my bird can't talk, or it really doesnt...</td>\n",
       "      <td>Still waiting for it to work...</td>\n",
       "      <td>1190851200</td>\n",
       "      <td>NaN</td>\n",
       "      <td>NaN</td>\n",
       "    </tr>\n",
       "    <tr>\n",
       "      <th>1</th>\n",
       "      <td>4.0</td>\n",
       "      <td>6</td>\n",
       "      <td>True</td>\n",
       "      <td>08 25, 2007</td>\n",
       "      <td>A1DWYEX4P7GB7Z</td>\n",
       "      <td>0972585419</td>\n",
       "      <td>J. Weaver</td>\n",
       "      <td>The CD is a good idea for teaching a bird to s...</td>\n",
       "      <td>Feathered Phonics volume 1</td>\n",
       "      <td>1188000000</td>\n",
       "      <td>NaN</td>\n",
       "      <td>NaN</td>\n",
       "    </tr>\n",
       "    <tr>\n",
       "      <th>2</th>\n",
       "      <td>4.0</td>\n",
       "      <td>5</td>\n",
       "      <td>True</td>\n",
       "      <td>02 20, 2007</td>\n",
       "      <td>A3NVN97YJSKEPC</td>\n",
       "      <td>0972585419</td>\n",
       "      <td>Theresa Ehrhardt</td>\n",
       "      <td>good cd to teach birds to talk and learn new w...</td>\n",
       "      <td>bird cd</td>\n",
       "      <td>1171929600</td>\n",
       "      <td>NaN</td>\n",
       "      <td>NaN</td>\n",
       "    </tr>\n",
       "  </tbody>\n",
       "</table>\n",
       "</div>"
      ],
      "text/plain": [
       "   overall vote  verified   reviewTime      reviewerID        asin  \\\n",
       "0      3.0    5      True  09 27, 2007  A13K4OZKAAHOXS  0972585419   \n",
       "1      4.0    6      True  08 25, 2007  A1DWYEX4P7GB7Z  0972585419   \n",
       "2      4.0    5      True  02 20, 2007  A3NVN97YJSKEPC  0972585419   \n",
       "\n",
       "       reviewerName                                         reviewText  \\\n",
       "0    100indecisions  Either my bird can't talk, or it really doesnt...   \n",
       "1         J. Weaver  The CD is a good idea for teaching a bird to s...   \n",
       "2  Theresa Ehrhardt  good cd to teach birds to talk and learn new w...   \n",
       "\n",
       "                           summary  unixReviewTime style image  \n",
       "0  Still waiting for it to work...      1190851200   NaN   NaN  \n",
       "1       Feathered Phonics volume 1      1188000000   NaN   NaN  \n",
       "2                          bird cd      1171929600   NaN   NaN  "
      ]
     },
     "execution_count": 6,
     "metadata": {},
     "output_type": "execute_result"
    }
   ],
   "source": [
    "df.head(3)"
   ]
  },
  {
   "cell_type": "code",
   "execution_count": 7,
   "metadata": {},
   "outputs": [
    {
     "name": "stdout",
     "output_type": "stream",
     "text": [
      "         overall                                         reviewText\n",
      "0            3.0  Either my bird can't talk, or it really doesnt...\n",
      "1            4.0  The CD is a good idea for teaching a bird to s...\n",
      "2            4.0  good cd to teach birds to talk and learn new w...\n",
      "3            1.0  I was not happy with product would like to ret...\n",
      "4            1.0  This cd is scratched and it constantly skips. ...\n",
      "...          ...                                                ...\n",
      "6542478      5.0        Great leash...should last a very long time.\n",
      "6542479      5.0  The leash arrived on time and was exactly what...\n",
      "6542480      4.0  Pretty good quality lead. Slightly stretchy, b...\n",
      "6542481      5.0                                     Great leash...\n",
      "6542482      4.0  It's a bit stretchy for leather, but made nicely.\n",
      "\n",
      "[6542483 rows x 2 columns]\n"
     ]
    }
   ],
   "source": [
    "reviews = df[[\"overall\", \"reviewText\"]]\n",
    "print(reviews)"
   ]
  },
  {
   "cell_type": "code",
   "execution_count": 8,
   "metadata": {},
   "outputs": [
    {
     "data": {
      "text/plain": [
       "(6542483, 2)"
      ]
     },
     "execution_count": 8,
     "metadata": {},
     "output_type": "execute_result"
    }
   ],
   "source": [
    "reviews.shape"
   ]
  },
  {
   "cell_type": "code",
   "execution_count": 9,
   "metadata": {},
   "outputs": [
    {
     "data": {
      "text/plain": [
       "overall          0\n",
       "reviewText    3796\n",
       "dtype: int64"
      ]
     },
     "execution_count": 9,
     "metadata": {},
     "output_type": "execute_result"
    }
   ],
   "source": [
    "reviews.isnull().sum()"
   ]
  },
  {
   "cell_type": "code",
   "execution_count": 27,
   "metadata": {},
   "outputs": [
    {
     "name": "stdout",
     "output_type": "stream",
     "text": [
      "(6538687, 2)\n"
     ]
    }
   ],
   "source": [
    "review = reviews.dropna()\n",
    "print(review.shape)"
   ]
  },
  {
   "cell_type": "code",
   "execution_count": 28,
   "metadata": {},
   "outputs": [
    {
     "data": {
      "text/plain": [
       "overall       float64\n",
       "reviewText     object\n",
       "dtype: object"
      ]
     },
     "execution_count": 28,
     "metadata": {},
     "output_type": "execute_result"
    }
   ],
   "source": [
    "review.dtypes"
   ]
  },
  {
   "cell_type": "markdown",
   "metadata": {},
   "source": [
    "###  classify rating stars < 3 as negative review (\"0\")"
   ]
  },
  {
   "cell_type": "code",
   "execution_count": 29,
   "metadata": {},
   "outputs": [],
   "source": [
    "review.loc[review[\"overall\"] < 3.0, 'overall'] = 0"
   ]
  },
  {
   "cell_type": "markdown",
   "metadata": {},
   "source": [
    "###  classify rating score > 3 as posotive review (\"1\")"
   ]
  },
  {
   "cell_type": "code",
   "execution_count": 30,
   "metadata": {},
   "outputs": [],
   "source": [
    "review.loc[review[\"overall\"] > 3.0, 'overall'] = 1"
   ]
  },
  {
   "cell_type": "markdown",
   "metadata": {},
   "source": [
    "###  classify rating score = 3 as neutral review (\"2\")"
   ]
  },
  {
   "cell_type": "code",
   "execution_count": 31,
   "metadata": {},
   "outputs": [],
   "source": [
    "review.loc[review[\"overall\"] == 3.0, 'overall'] = 2"
   ]
  },
  {
   "cell_type": "markdown",
   "metadata": {},
   "source": [
    "### Check class if balance"
   ]
  },
  {
   "cell_type": "code",
   "execution_count": 32,
   "metadata": {},
   "outputs": [
    {
     "data": {
      "text/plain": [
       "overall\n",
       "1.0        5007910\n",
       "0.0        1014556\n",
       "2.0         516221\n",
       "Name: count, dtype: int64"
      ]
     },
     "execution_count": 32,
     "metadata": {},
     "output_type": "execute_result"
    }
   ],
   "source": [
    "review[[\"overall\"]].value_counts()"
   ]
  },
  {
   "cell_type": "code",
   "execution_count": 15,
   "metadata": {},
   "outputs": [
    {
     "data": {
      "text/plain": [
       "<Axes: xlabel='overall', ylabel='count'>"
      ]
     },
     "execution_count": 15,
     "metadata": {},
     "output_type": "execute_result"
    },
    {
     "data": {
      "image/png": "[encoded data removed]",
      "text/plain": [
       "<Figure size 640x480 with 1 Axes>"
      ]
     },
     "metadata": {},
     "output_type": "display_data"
    }
   ],
   "source": [
    "sns.countplot(data=review, x='overall',hue=\"overall\", palette=\"Pastel1\")"
   ]
  },
  {
   "cell_type": "markdown",
   "metadata": {},
   "source": [
    "### Text preprocessing "
   ]
  },
  {
   "cell_type": "code",
   "execution_count": 33,
   "metadata": {},
   "outputs": [
    {
     "data": {
      "text/html": [
       "<div>\n",
       "<style scoped>\n",
       "    .dataframe tbody tr th:only-of-type {\n",
       "        vertical-align: middle;\n",
       "    }\n",
       "\n",
       "    .dataframe tbody tr th {\n",
       "        vertical-align: top;\n",
       "    }\n",
       "\n",
       "    .dataframe thead th {\n",
       "        text-align: right;\n",
       "    }\n",
       "</style>\n",
       "<table border=\"1\" class=\"dataframe\">\n",
       "  <thead>\n",
       "    <tr style=\"text-align: right;\">\n",
       "      <th></th>\n",
       "      <th>reviewText</th>\n",
       "    </tr>\n",
       "  </thead>\n",
       "  <tbody>\n",
       "    <tr>\n",
       "      <th>0</th>\n",
       "      <td>Either my bird can't talk, or it really doesnt...</td>\n",
       "    </tr>\n",
       "  </tbody>\n",
       "</table>\n",
       "</div>"
      ],
      "text/plain": [
       "                                          reviewText\n",
       "0  Either my bird can't talk, or it really doesnt..."
      ]
     },
     "execution_count": 33,
     "metadata": {},
     "output_type": "execute_result"
    }
   ],
   "source": [
    "review[[\"reviewText\"]].head(1)"
   ]
  },
  {
   "cell_type": "code",
   "execution_count": 35,
   "metadata": {},
   "outputs": [],
   "source": [
    "\n",
    "def data_preprocess(text):\n",
    "    text =  RegexpTokenizer(r'\\w+|$[0-9.]+|\\S+').tokenize(text.lower())\n",
    "    text = ' '.join(text)\n",
    "    return text"
   ]
  },
  {
   "cell_type": "code",
   "execution_count": 36,
   "metadata": {},
   "outputs": [
    {
     "name": "stderr",
     "output_type": "stream",
     "text": [
      "/tmp/ipykernel_21479/297975594.py:1: SettingWithCopyWarning: \n",
      "A value is trying to be set on a copy of a slice from a DataFrame.\n",
      "Try using .loc[row_indexer,col_indexer] = value instead\n",
      "\n",
      "See the caveats in the documentation: https://pandas.pydata.org/pandas-docs/stable/user_guide/indexing.html#returning-a-view-versus-a-copy\n",
      "  review['Text'] = review.loc[:, 'reviewText'].apply(data_preprocess)\n"
     ]
    },
    {
     "data": {
      "text/html": [
       "<div>\n",
       "<style scoped>\n",
       "    .dataframe tbody tr th:only-of-type {\n",
       "        vertical-align: middle;\n",
       "    }\n",
       "\n",
       "    .dataframe tbody tr th {\n",
       "        vertical-align: top;\n",
       "    }\n",
       "\n",
       "    .dataframe thead th {\n",
       "        text-align: right;\n",
       "    }\n",
       "</style>\n",
       "<table border=\"1\" class=\"dataframe\">\n",
       "  <thead>\n",
       "    <tr style=\"text-align: right;\">\n",
       "      <th></th>\n",
       "      <th>overall</th>\n",
       "      <th>reviewText</th>\n",
       "      <th>Text</th>\n",
       "    </tr>\n",
       "  </thead>\n",
       "  <tbody>\n",
       "    <tr>\n",
       "      <th>0</th>\n",
       "      <td>2.0</td>\n",
       "      <td>Either my bird can't talk, or it really doesnt...</td>\n",
       "      <td>either my bird can 't talk , or it really does...</td>\n",
       "    </tr>\n",
       "    <tr>\n",
       "      <th>1</th>\n",
       "      <td>1.0</td>\n",
       "      <td>The CD is a good idea for teaching a bird to s...</td>\n",
       "      <td>the cd is a good idea for teaching a bird to s...</td>\n",
       "    </tr>\n",
       "    <tr>\n",
       "      <th>2</th>\n",
       "      <td>1.0</td>\n",
       "      <td>good cd to teach birds to talk and learn new w...</td>\n",
       "      <td>good cd to teach birds to talk and learn new w...</td>\n",
       "    </tr>\n",
       "    <tr>\n",
       "      <th>3</th>\n",
       "      <td>0.0</td>\n",
       "      <td>I was not happy with product would like to ret...</td>\n",
       "      <td>i was not happy with product would like to ret...</td>\n",
       "    </tr>\n",
       "    <tr>\n",
       "      <th>4</th>\n",
       "      <td>0.0</td>\n",
       "      <td>This cd is scratched and it constantly skips. ...</td>\n",
       "      <td>this cd is scratched and it constantly skips ....</td>\n",
       "    </tr>\n",
       "    <tr>\n",
       "      <th>5</th>\n",
       "      <td>1.0</td>\n",
       "      <td>It works just fine and repeats when I'm not he...</td>\n",
       "      <td>it works just fine and repeats when i 'm not h...</td>\n",
       "    </tr>\n",
       "    <tr>\n",
       "      <th>6</th>\n",
       "      <td>2.0</td>\n",
       "      <td>I purchased this cd for my Pocket Parrot. It h...</td>\n",
       "      <td>i purchased this cd for my pocket parrot . it ...</td>\n",
       "    </tr>\n",
       "    <tr>\n",
       "      <th>7</th>\n",
       "      <td>2.0</td>\n",
       "      <td>Maybe it's just my Amazon parrot, but she's no...</td>\n",
       "      <td>maybe it 's just my amazon parrot , but she 's...</td>\n",
       "    </tr>\n",
       "    <tr>\n",
       "      <th>8</th>\n",
       "      <td>1.0</td>\n",
       "      <td>I bought this to help me teach my blue quaker ...</td>\n",
       "      <td>i bought this to help me teach my blue quaker ...</td>\n",
       "    </tr>\n",
       "    <tr>\n",
       "      <th>9</th>\n",
       "      <td>2.0</td>\n",
       "      <td>Bird showed no interest in it....</td>\n",
       "      <td>bird showed no interest in it ....</td>\n",
       "    </tr>\n",
       "  </tbody>\n",
       "</table>\n",
       "</div>"
      ],
      "text/plain": [
       "   overall                                         reviewText  \\\n",
       "0      2.0  Either my bird can't talk, or it really doesnt...   \n",
       "1      1.0  The CD is a good idea for teaching a bird to s...   \n",
       "2      1.0  good cd to teach birds to talk and learn new w...   \n",
       "3      0.0  I was not happy with product would like to ret...   \n",
       "4      0.0  This cd is scratched and it constantly skips. ...   \n",
       "5      1.0  It works just fine and repeats when I'm not he...   \n",
       "6      2.0  I purchased this cd for my Pocket Parrot. It h...   \n",
       "7      2.0  Maybe it's just my Amazon parrot, but she's no...   \n",
       "8      1.0  I bought this to help me teach my blue quaker ...   \n",
       "9      2.0                  Bird showed no interest in it....   \n",
       "\n",
       "                                                Text  \n",
       "0  either my bird can 't talk , or it really does...  \n",
       "1  the cd is a good idea for teaching a bird to s...  \n",
       "2  good cd to teach birds to talk and learn new w...  \n",
       "3  i was not happy with product would like to ret...  \n",
       "4  this cd is scratched and it constantly skips ....  \n",
       "5  it works just fine and repeats when i 'm not h...  \n",
       "6  i purchased this cd for my pocket parrot . it ...  \n",
       "7  maybe it 's just my amazon parrot , but she 's...  \n",
       "8  i bought this to help me teach my blue quaker ...  \n",
       "9                 bird showed no interest in it ....  "
      ]
     },
     "execution_count": 36,
     "metadata": {},
     "output_type": "execute_result"
    }
   ],
   "source": [
    "review['Text'] = review.loc[:, 'reviewText'].apply(data_preprocess)\n",
    "review.head(10)"
   ]
  },
  {
   "cell_type": "code",
   "execution_count": 37,
   "metadata": {},
   "outputs": [],
   "source": [
    "stop_words = set(stopwords.words('english'))\n",
    "lemmatizer = WordNetLemmatizer()\n",
    "\n",
    "def preprocess(words):\n",
    "    words = words.split()\n",
    "    words = [lemmatizer.lemmatize(word) for word in words if word not in stop_words]\n",
    "    words = ' '.join(words)\n",
    "    return words"
   ]
  },
  {
   "cell_type": "code",
   "execution_count": 38,
   "metadata": {},
   "outputs": [
    {
     "name": "stderr",
     "output_type": "stream",
     "text": [
      "/tmp/ipykernel_21479/708803845.py:1: SettingWithCopyWarning: \n",
      "A value is trying to be set on a copy of a slice from a DataFrame.\n",
      "Try using .loc[row_indexer,col_indexer] = value instead\n",
      "\n",
      "See the caveats in the documentation: https://pandas.pydata.org/pandas-docs/stable/user_guide/indexing.html#returning-a-view-versus-a-copy\n",
      "  review['Text'] = review.loc[:,'Text'].apply(preprocess)\n"
     ]
    },
    {
     "data": {
      "text/html": [
       "<div>\n",
       "<style scoped>\n",
       "    .dataframe tbody tr th:only-of-type {\n",
       "        vertical-align: middle;\n",
       "    }\n",
       "\n",
       "    .dataframe tbody tr th {\n",
       "        vertical-align: top;\n",
       "    }\n",
       "\n",
       "    .dataframe thead th {\n",
       "        text-align: right;\n",
       "    }\n",
       "</style>\n",
       "<table border=\"1\" class=\"dataframe\">\n",
       "  <thead>\n",
       "    <tr style=\"text-align: right;\">\n",
       "      <th></th>\n",
       "      <th>overall</th>\n",
       "      <th>reviewText</th>\n",
       "      <th>Text</th>\n",
       "    </tr>\n",
       "  </thead>\n",
       "  <tbody>\n",
       "    <tr>\n",
       "      <th>0</th>\n",
       "      <td>2.0</td>\n",
       "      <td>Either my bird can't talk, or it really doesnt...</td>\n",
       "      <td>either bird 't talk , really doesnt want say \"...</td>\n",
       "    </tr>\n",
       "    <tr>\n",
       "      <th>1</th>\n",
       "      <td>1.0</td>\n",
       "      <td>The CD is a good idea for teaching a bird to s...</td>\n",
       "      <td>cd good idea teaching bird speak ,but word wou...</td>\n",
       "    </tr>\n",
       "    <tr>\n",
       "      <th>2</th>\n",
       "      <td>1.0</td>\n",
       "      <td>good cd to teach birds to talk and learn new w...</td>\n",
       "      <td>good cd teach bird talk learn new word . keep ...</td>\n",
       "    </tr>\n",
       "    <tr>\n",
       "      <th>3</th>\n",
       "      <td>0.0</td>\n",
       "      <td>I was not happy with product would like to ret...</td>\n",
       "      <td>happy product would like return work</td>\n",
       "    </tr>\n",
       "    <tr>\n",
       "      <th>4</th>\n",
       "      <td>0.0</td>\n",
       "      <td>This cd is scratched and it constantly skips. ...</td>\n",
       "      <td>cd scratched constantly skip . disappointed</td>\n",
       "    </tr>\n",
       "  </tbody>\n",
       "</table>\n",
       "</div>"
      ],
      "text/plain": [
       "   overall                                         reviewText  \\\n",
       "0      2.0  Either my bird can't talk, or it really doesnt...   \n",
       "1      1.0  The CD is a good idea for teaching a bird to s...   \n",
       "2      1.0  good cd to teach birds to talk and learn new w...   \n",
       "3      0.0  I was not happy with product would like to ret...   \n",
       "4      0.0  This cd is scratched and it constantly skips. ...   \n",
       "\n",
       "                                                Text  \n",
       "0  either bird 't talk , really doesnt want say \"...  \n",
       "1  cd good idea teaching bird speak ,but word wou...  \n",
       "2  good cd teach bird talk learn new word . keep ...  \n",
       "3               happy product would like return work  \n",
       "4        cd scratched constantly skip . disappointed  "
      ]
     },
     "execution_count": 38,
     "metadata": {},
     "output_type": "execute_result"
    }
   ],
   "source": [
    "review['Text'] = review.loc[:,'Text'].apply(preprocess)\n",
    "review.head()\n",
    "\n",
    "# would explore a faster way to do"
   ]
  },
  {
   "cell_type": "code",
   "execution_count": 42,
   "metadata": {},
   "outputs": [
    {
     "name": "stderr",
     "output_type": "stream",
     "text": [
      "2023-11-30 22:41:51.803008: E external/local_xla/xla/stream_executor/cuda/cuda_dnn.cc:9261] Unable to register cuDNN factory: Attempting to register factory for plugin cuDNN when one has already been registered\n",
      "2023-11-30 22:41:51.803063: E external/local_xla/xla/stream_executor/cuda/cuda_fft.cc:607] Unable to register cuFFT factory: Attempting to register factory for plugin cuFFT when one has already been registered\n",
      "2023-11-30 22:41:51.952615: E external/local_xla/xla/stream_executor/cuda/cuda_blas.cc:1515] Unable to register cuBLAS factory: Attempting to register factory for plugin cuBLAS when one has already been registered\n",
      "2023-11-30 22:41:52.225767: I tensorflow/core/platform/cpu_feature_guard.cc:182] This TensorFlow binary is optimized to use available CPU instructions in performance-critical operations.\n",
      "To enable the following instructions: AVX2 FMA, in other operations, rebuild TensorFlow with the appropriate compiler flags.\n",
      "2023-11-30 22:41:53.715493: W tensorflow/compiler/tf2tensorrt/utils/py_utils.cc:38] TF-TRT Warning: Could not find TensorRT\n"
     ]
    }
   ],
   "source": [
    "import keras\n"
   ]
  }
 ],
 "metadata": {
  "kernelspec": {
   "display_name": "Python 3",
   "language": "python",
   "name": "python3"
  },
  "language_info": {
   "codemirror_mode": {
    "name": "ipython",
    "version": 3
   },
   "file_extension": ".py",
   "mimetype": "text/x-python",
   "name": "python",
   "nbconvert_exporter": "python",
   "pygments_lexer": "ipython3",
   "version": "3.10.13"
  }
 },
 "nbformat": 4,
 "nbformat_minor": 2
}
