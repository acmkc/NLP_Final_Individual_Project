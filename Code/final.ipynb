{
 "cells": [
  {
   "cell_type": "markdown",
   "metadata": {},
   "source": [
    "Final project: Amazon pet supplies product reviews sentiment analysis using different models \n",
    "Python version: 3.10.12\n",
    "\n"
   ]
  },
  {
   "cell_type": "code",
   "execution_count": 1,
   "metadata": {},
   "outputs": [],
   "source": [
    "import pandas as pd  \n",
    "import dask as dd\n",
    "import json\n",
    "\n",
    "# Read the JSON file line by line\n",
    "with open('Pet_Supplies.json', 'r') as file:\n",
    "    data = [json.loads(line) for line in file if line.strip()]\n"
   ]
  },
  {
   "cell_type": "code",
   "execution_count": 3,
   "metadata": {},
   "outputs": [],
   "source": [
    "# Convert the list of dictionaries to a DataFrame\n",
    "file = pd.DataFrame(data)"
   ]
  },
  {
   "cell_type": "code",
   "execution_count": 6,
   "metadata": {},
   "outputs": [],
   "source": [
    "df = file.copy()"
   ]
  },
  {
   "cell_type": "code",
   "execution_count": 8,
   "metadata": {},
   "outputs": [
    {
     "data": {
      "text/html": [
       "<div>\n",
       "<style scoped>\n",
       "    .dataframe tbody tr th:only-of-type {\n",
       "        vertical-align: middle;\n",
       "    }\n",
       "\n",
       "    .dataframe tbody tr th {\n",
       "        vertical-align: top;\n",
       "    }\n",
       "\n",
       "    .dataframe thead th {\n",
       "        text-align: right;\n",
       "    }\n",
       "</style>\n",
       "<table border=\"1\" class=\"dataframe\">\n",
       "  <thead>\n",
       "    <tr style=\"text-align: right;\">\n",
       "      <th></th>\n",
       "      <th>overall</th>\n",
       "      <th>vote</th>\n",
       "      <th>verified</th>\n",
       "      <th>reviewTime</th>\n",
       "      <th>reviewerID</th>\n",
       "      <th>asin</th>\n",
       "      <th>reviewerName</th>\n",
       "      <th>reviewText</th>\n",
       "      <th>summary</th>\n",
       "      <th>unixReviewTime</th>\n",
       "      <th>style</th>\n",
       "      <th>image</th>\n",
       "    </tr>\n",
       "  </thead>\n",
       "  <tbody>\n",
       "    <tr>\n",
       "      <th>0</th>\n",
       "      <td>3.0</td>\n",
       "      <td>5</td>\n",
       "      <td>True</td>\n",
       "      <td>09 27, 2007</td>\n",
       "      <td>A13K4OZKAAHOXS</td>\n",
       "      <td>0972585419</td>\n",
       "      <td>100indecisions</td>\n",
       "      <td>Either my bird can't talk, or it really doesnt...</td>\n",
       "      <td>Still waiting for it to work...</td>\n",
       "      <td>1190851200</td>\n",
       "      <td>NaN</td>\n",
       "      <td>NaN</td>\n",
       "    </tr>\n",
       "    <tr>\n",
       "      <th>1</th>\n",
       "      <td>4.0</td>\n",
       "      <td>6</td>\n",
       "      <td>True</td>\n",
       "      <td>08 25, 2007</td>\n",
       "      <td>A1DWYEX4P7GB7Z</td>\n",
       "      <td>0972585419</td>\n",
       "      <td>J. Weaver</td>\n",
       "      <td>The CD is a good idea for teaching a bird to s...</td>\n",
       "      <td>Feathered Phonics volume 1</td>\n",
       "      <td>1188000000</td>\n",
       "      <td>NaN</td>\n",
       "      <td>NaN</td>\n",
       "    </tr>\n",
       "    <tr>\n",
       "      <th>2</th>\n",
       "      <td>4.0</td>\n",
       "      <td>5</td>\n",
       "      <td>True</td>\n",
       "      <td>02 20, 2007</td>\n",
       "      <td>A3NVN97YJSKEPC</td>\n",
       "      <td>0972585419</td>\n",
       "      <td>Theresa Ehrhardt</td>\n",
       "      <td>good cd to teach birds to talk and learn new w...</td>\n",
       "      <td>bird cd</td>\n",
       "      <td>1171929600</td>\n",
       "      <td>NaN</td>\n",
       "      <td>NaN</td>\n",
       "    </tr>\n",
       "  </tbody>\n",
       "</table>\n",
       "</div>"
      ],
      "text/plain": [
       "   overall vote  verified   reviewTime      reviewerID        asin  \\\n",
       "0      3.0    5      True  09 27, 2007  A13K4OZKAAHOXS  0972585419   \n",
       "1      4.0    6      True  08 25, 2007  A1DWYEX4P7GB7Z  0972585419   \n",
       "2      4.0    5      True  02 20, 2007  A3NVN97YJSKEPC  0972585419   \n",
       "\n",
       "       reviewerName                                         reviewText  \\\n",
       "0    100indecisions  Either my bird can't talk, or it really doesnt...   \n",
       "1         J. Weaver  The CD is a good idea for teaching a bird to s...   \n",
       "2  Theresa Ehrhardt  good cd to teach birds to talk and learn new w...   \n",
       "\n",
       "                           summary  unixReviewTime style image  \n",
       "0  Still waiting for it to work...      1190851200   NaN   NaN  \n",
       "1       Feathered Phonics volume 1      1188000000   NaN   NaN  \n",
       "2                          bird cd      1171929600   NaN   NaN  "
      ]
     },
     "execution_count": 8,
     "metadata": {},
     "output_type": "execute_result"
    }
   ],
   "source": [
    "df.head(3)"
   ]
  },
  {
   "cell_type": "code",
   "execution_count": 9,
   "metadata": {},
   "outputs": [
    {
     "data": {
      "text/plain": [
       "(6542483, 12)"
      ]
     },
     "execution_count": 9,
     "metadata": {},
     "output_type": "execute_result"
    }
   ],
   "source": [
    "df.shape"
   ]
  },
  {
   "cell_type": "code",
   "execution_count": 2,
   "metadata": {},
   "outputs": [],
   "source": [
    "we = 'fdsaf'"
   ]
  }
 ],
 "metadata": {
  "kernelspec": {
   "display_name": "Python 3",
   "language": "python",
   "name": "python3"
  },
  "language_info": {
   "codemirror_mode": {
    "name": "ipython",
    "version": 3
   },
   "file_extension": ".py",
   "mimetype": "text/x-python",
   "name": "python",
   "nbconvert_exporter": "python",
   "pygments_lexer": "ipython3",
   "version": "3.10.13"
  }
 },
 "nbformat": 4,
 "nbformat_minor": 2
}
